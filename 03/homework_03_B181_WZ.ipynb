{
 "cells": [
  {
   "cell_type": "markdown",
   "metadata": {},
   "source": [
    "# Homework nr. 3 - features transformation & selection (deadline 13/12/2018)\n",
    "\n",
    "In short, the main task is to play with transformations and feature selection methods in order to obtain the best results for linear regression model predicting house sale prices.\n",
    "  \n",
    "> The instructions are not given in details: It is up to you to come up with ideas on how to fulfill the particular tasks as best you can. ;)\n",
    "\n",
    "## What are you supposed to do\n",
    "\n",
    "Your aim is to optimize the _RMSLE_ (see the note below) of the linear regression estimator (=our prediction model) of the observed sale prices.\n",
    "\n",
    "### Instructions:\n",
    "\n",
    "  1. Download the dataset from the course pages (hw3_data.csv, hw3_data_description.txt). It corresponds to [this Kaggle competition](https://www.kaggle.com/c/house-prices-advanced-regression-techniques).\n",
    "  2. Split the dataset into train & test part exactly as we did in the tutorial.\n",
    "  3. Transform the features properly (don't forget the target variable).\n",
    "  4. Try to find the best subset of features.\n",
    "  5. Compare your results with the [Kaggle leaderboard](https://www.kaggle.com/c/house-prices-advanced-regression-techniques/leaderboard). You should be able to reach approximately the top 20% there.\n",
    "  \n",
    "Give comments on each step of your solution, with short explanations of your choices.\n",
    "\n",
    "  \n",
    "**Note**: _RMSLE_ is a Root-Mean-Squared-Error (RMSE) between the logarithm of the predicted value and the logarithm of the observed sale prices.\n",
    "\n",
    "\n",
    "## Comments\n",
    "\n",
    "  * Please follow the instructions from https://courses.fit.cvut.cz/MI-PDD/homeworks/index.html.\n",
    "  * If the reviewing teacher is not satisfied, he can give you another chance to rework your homework and to obtain more points."
   ]
  },
  {
   "cell_type": "code",
   "execution_count": 1,
   "metadata": {},
   "outputs": [],
   "source": [
    "### here comes your code"
   ]
  },
  {
   "cell_type": "markdown",
   "metadata": {},
   "source": [
    "## Import"
   ]
  },
  {
   "cell_type": "code",
   "execution_count": 2,
   "metadata": {},
   "outputs": [],
   "source": [
    "import numpy as np\n",
    "import pandas as pd\n",
    "\n",
    "from scipy import stats, optimize\n",
    "\n",
    "from sklearn import model_selection, linear_model, metrics, preprocessing, feature_selection\n",
    "\n",
    "import matplotlib\n",
    "import matplotlib.pyplot as plt\n",
    "import seaborn as sns\n",
    "import math\n",
    "\n",
    "%matplotlib inline"
   ]
  },
  {
   "cell_type": "markdown",
   "metadata": {},
   "source": [
    "## Data"
   ]
  },
  {
   "cell_type": "code",
   "execution_count": 3,
   "metadata": {},
   "outputs": [],
   "source": [
    "df = pd.read_csv('hw3_data.csv')"
   ]
  },
  {
   "cell_type": "markdown",
   "metadata": {},
   "source": [
    "Little cleaning"
   ]
  },
  {
   "cell_type": "code",
   "execution_count": 4,
   "metadata": {},
   "outputs": [],
   "source": [
    "# Convert all object values to categorial format\n",
    "df[df.select_dtypes(include=['object']).columns] = df.select_dtypes(include=['object']).apply(pd.Series.astype, dtype='category')\n",
    "# Fill all NaN with 0\n",
    "df.loc[:,df.select_dtypes(include=['float64']).columns] = df.loc[:,df.select_dtypes(include=['float64']).columns].fillna(0)"
   ]
  },
  {
   "cell_type": "code",
   "execution_count": 5,
   "metadata": {},
   "outputs": [
    {
     "data": {
      "text/plain": [
       "Index(['Alley', 'MasVnrType', 'BsmtQual', 'BsmtCond', 'BsmtExposure',\n",
       "       'BsmtFinType1', 'BsmtFinType2', 'Electrical', 'FireplaceQu',\n",
       "       'GarageType', 'GarageFinish', 'GarageQual', 'GarageCond', 'PoolQC',\n",
       "       'Fence', 'MiscFeature'],\n",
       "      dtype='object')"
      ]
     },
     "execution_count": 5,
     "metadata": {},
     "output_type": "execute_result"
    }
   ],
   "source": [
    "df.columns[df.isnull().any()]"
   ]
  },
  {
   "cell_type": "markdown",
   "metadata": {},
   "source": [
    "I have some null values, so I need to somehow deal with it"
   ]
  },
  {
   "cell_type": "markdown",
   "metadata": {},
   "source": [
    "## Basic transformations before split"
   ]
  },
  {
   "cell_type": "code",
   "execution_count": 6,
   "metadata": {},
   "outputs": [
    {
     "name": "stdout",
     "output_type": "stream",
     "text": [
      "Shape before transformations.\n"
     ]
    },
    {
     "data": {
      "text/plain": [
       "(1460, 81)"
      ]
     },
     "metadata": {},
     "output_type": "display_data"
    },
    {
     "name": "stdout",
     "output_type": "stream",
     "text": [
      "\n",
      "Shape after transformations.\n"
     ]
    },
    {
     "data": {
      "text/plain": [
       "(1460, 320)"
      ]
     },
     "metadata": {},
     "output_type": "display_data"
    }
   ],
   "source": [
    "print(\"Shape before transformations.\")\n",
    "display(df.shape)\n",
    "\n",
    "# Convert categorical variables to indicators and create new data\n",
    "df = pd.get_dummies(df)\n",
    "\n",
    "#Let us also convert all non-indicator values to float64 - which would be useful later.\n",
    "df[df.select_dtypes(['float16', 'float64', 'int64']).columns] = df[df.select_dtypes(['float16', 'float64', 'int64']).columns].astype('float64')\n",
    "\n",
    "# Remove constant features because they are not benefical for our model\n",
    "df = df[df.columns[df.min() != df.max()]]\n",
    "\n",
    "# Let us create new features as square roots of Area features - i.e. so they correspond to diameters of circles having the same area\n",
    "# We also add indicators of zero values (usually missings) there\n",
    "for column in df.filter(regex='Area|SF', axis=1).columns:  # SF - square foot which means area\n",
    "    df['Has' + column] = (df[column] > 0).replace({True: 1, False: 0}).astype('uint8')\n",
    "    df['Sqrt' + column] = np.sqrt(df[column])\n",
    "    \n",
    "print(\"\\nShape after transformations.\")\n",
    "display(df.shape)"
   ]
  },
  {
   "cell_type": "code",
   "execution_count": 7,
   "metadata": {},
   "outputs": [
    {
     "data": {
      "text/plain": [
       "Index([], dtype='object')"
      ]
     },
     "execution_count": 7,
     "metadata": {},
     "output_type": "execute_result"
    }
   ],
   "source": [
    "df.columns[df.isnull().any()]"
   ]
  },
  {
   "cell_type": "markdown",
   "metadata": {},
   "source": [
    "Now after those transformations there are no empty values, so we can split the data and then select features for the best prediction of SalePrice"
   ]
  },
  {
   "cell_type": "markdown",
   "metadata": {},
   "source": [
    "## Split train & test (validation) data to be able to study the influence of further steps"
   ]
  },
  {
   "cell_type": "code",
   "execution_count": 8,
   "metadata": {},
   "outputs": [
    {
     "name": "stdout",
     "output_type": "stream",
     "text": [
      "Train:  1095 ; Validation:  365\n"
     ]
    }
   ],
   "source": [
    "dt, dv = model_selection.train_test_split(df, test_size=0.25, random_state=17)\n",
    "dt = dt.copy()\n",
    "dv = dv.copy()\n",
    "print('Train: ', len(dt), '; Validation: ', len(dv))"
   ]
  },
  {
   "cell_type": "markdown",
   "metadata": {},
   "source": [
    "#### Prepare models run to be able to study the influence of further steps"
   ]
  },
  {
   "cell_type": "code",
   "execution_count": 9,
   "metadata": {},
   "outputs": [],
   "source": [
    "def linreg(train, validate, plot = False, train_error = True):\n",
    "    # Data prepare\n",
    "    X = train.drop(['SalePrice'], axis = 1, errors = 'ignore')\n",
    "    y = train.SalePrice\n",
    "    Xv = validate.drop(['SalePrice'], axis = 1, errors = 'ignore')\n",
    "    yv = validate.SalePrice   \n",
    "    \n",
    "    # Linear Regression train\n",
    "    clf = linear_model.LinearRegression()\n",
    "    clf.fit(X, y) \n",
    "    \n",
    "    # Print RMSLE\n",
    "    print('Linear regression root mean squared validation error:',\n",
    "          np.sqrt(metrics.mean_squared_error(np.log(clf.predict(Xv)),np.log(yv))))\n",
    "    if train_error:\n",
    "        print('Linear regression root mean squared train error:',\n",
    "            np.sqrt(metrics.mean_squared_error(np.log(clf.predict(X)), np.log(y))))\n",
    "    \n",
    "    # Joint Plot\n",
    "    if plot:\n",
    "        sns.jointplot(yv, clf.predict(Xv))"
   ]
  },
  {
   "cell_type": "code",
   "execution_count": 10,
   "metadata": {},
   "outputs": [],
   "source": [
    "def ridgereg(train, validate, plot = False, train_error = True):\n",
    "    # Prepare functions to automatic alpha determination using cross validation\n",
    "    def scorer(Y, yp):\n",
    "        return np.sqrt(metrics.mean_squared_error(Y, yp))\n",
    "    def ridgemodel(alpha):\n",
    "        clf = linear_model.Ridge(alpha=alpha)\n",
    "        return np.mean(model_selection.cross_val_score(clf, X, y, cv=5, scoring=metrics.make_scorer(scorer)))\n",
    "\n",
    "    # Data prepare\n",
    "    X = train.drop(['SalePrice'], axis = 1, errors = 'ignore')\n",
    "    y = train.SalePrice\n",
    "    Xv = validate.drop(['SalePrice'], axis = 1, errors = 'ignore')\n",
    "    yv = validate.SalePrice\n",
    "   \n",
    "    # Find Ridge alpha automatically\n",
    "    opt_alpha = optimize.minimize_scalar(ridgemodel, options = {'maxiter': 30}, method = 'bounded', bounds=(0.1, 400))\n",
    "    \n",
    "    # Ridge regression model\n",
    "    clf = linear_model.Ridge(alpha=opt_alpha.x)\n",
    "    clf.fit(X, y) \n",
    "    \n",
    "    # Print RMSLE\n",
    "    print('Ridge regression root mean squared validation error:',\n",
    "          np.sqrt(metrics.mean_squared_error(np.log(clf.predict(Xv)),np.log(yv))))\n",
    "    if train_error:\n",
    "        print('Rigde regression root mean squared train error:',\n",
    "            np.sqrt(metrics.mean_squared_error(np.log(clf.predict(X)),np.log(y))))"
   ]
  },
  {
   "cell_type": "markdown",
   "metadata": {},
   "source": [
    "## Normalization of features\n",
    "\n",
    "I decide not to do any normalization, because on tutorial it was proven that it don't help and even make worse results."
   ]
  },
  {
   "cell_type": "markdown",
   "metadata": {},
   "source": [
    "## Feature selection"
   ]
  },
  {
   "cell_type": "markdown",
   "metadata": {},
   "source": [
    "Function to check linear regression without some columns"
   ]
  },
  {
   "cell_type": "code",
   "execution_count": 11,
   "metadata": {},
   "outputs": [],
   "source": [
    "def check_wo_col(train,validate,columns):\n",
    "    tmp_t = train.drop(columns,axis = 1, errors = 'ignore')\n",
    "    tmp_v = validate.drop(columns,axis = 1, errors = 'ignore')\n",
    "    linreg(tmp_t,tmp_v)\n",
    "    ridgereg(tmp_t,tmp_v)\n",
    "    print()"
   ]
  },
  {
   "cell_type": "markdown",
   "metadata": {},
   "source": [
    "Id don't help in predictions, so I will delete it."
   ]
  },
  {
   "cell_type": "code",
   "execution_count": 12,
   "metadata": {},
   "outputs": [],
   "source": [
    "columns_to_remove = ['Id']"
   ]
  },
  {
   "cell_type": "markdown",
   "metadata": {},
   "source": [
    "I will delete columns with almost no variance in training set, because then they are almost constant and are not good to train"
   ]
  },
  {
   "cell_type": "code",
   "execution_count": 13,
   "metadata": {},
   "outputs": [],
   "source": [
    "treshold = 0.001\n",
    "columns_to_remove = list(set(list(dt.columns[dt.var() < treshold]) + columns_to_remove))"
   ]
  },
  {
   "cell_type": "code",
   "execution_count": 14,
   "metadata": {},
   "outputs": [
    {
     "name": "stdout",
     "output_type": "stream",
     "text": [
      "Linear regression root mean squared validation error: 0.17270444723098963\n",
      "Linear regression root mean squared train error: 0.1064755087662662\n",
      "Ridge regression root mean squared validation error: 0.14237946283285216\n",
      "Rigde regression root mean squared train error: 0.12322888892417208\n",
      "\n"
     ]
    }
   ],
   "source": [
    "check_wo_col(dt,dv,columns_to_remove)"
   ]
  },
  {
   "cell_type": "markdown",
   "metadata": {},
   "source": [
    "#### Correlation of colums to 'SalePrice' column\n",
    "If columns are not corelated with SalePrice then they will not help with predictions.\n",
    "I use linear regression in predictions so I don't care about columns from which SalePrice is not linearly dependent."
   ]
  },
  {
   "cell_type": "code",
   "execution_count": 15,
   "metadata": {},
   "outputs": [],
   "source": [
    "corrP = dt.drop(columns_to_remove, axis = 1, errors = 'ignore').corr(method='pearson')\n",
    "corrS = dt.drop(columns_to_remove, axis = 1, errors = 'ignore').corr(method='spearman')"
   ]
  },
  {
   "cell_type": "code",
   "execution_count": 16,
   "metadata": {},
   "outputs": [
    {
     "name": "stdout",
     "output_type": "stream",
     "text": [
      "(294, 294)\n",
      "(294, 294)\n"
     ]
    }
   ],
   "source": [
    "print(corrP.shape)\n",
    "print(corrS.shape)"
   ]
  },
  {
   "cell_type": "code",
   "execution_count": 17,
   "metadata": {},
   "outputs": [
    {
     "name": "stdout",
     "output_type": "stream",
     "text": [
      "Before 26\n",
      "After Pearson 30\n",
      "After Spearman 27\n",
      "\n",
      "Pearson correlation\n",
      "Linear regression root mean squared validation error: 0.1725161536296006\n",
      "Linear regression root mean squared train error: 0.10682037520696315\n",
      "Ridge regression root mean squared validation error: 0.14208764651474504\n",
      "Rigde regression root mean squared train error: 0.12296495239283217\n",
      "\n",
      "Spearman correlation\n",
      "Linear regression root mean squared validation error: 0.17260585420573896\n",
      "Linear regression root mean squared train error: 0.10647253356305136\n",
      "Ridge regression root mean squared validation error: 0.14238348215670554\n",
      "Rigde regression root mean squared train error: 0.12317093321047443\n",
      "\n"
     ]
    }
   ],
   "source": [
    "treshold = 0.001\n",
    "col_P = list(corrP.SalePrice[corrP.SalePrice.abs() < treshold].index)\n",
    "col_S = list(corrS.SalePrice[corrS.SalePrice.abs() < treshold].index)\n",
    "\n",
    "columns_to_remove_P = list(set(columns_to_remove + col_P))\n",
    "columns_to_remove_S = list(set(columns_to_remove + col_S))\n",
    "\n",
    "\n",
    "print(\"Before\",len(columns_to_remove))\n",
    "print(\"After Pearson\",len(columns_to_remove_P))\n",
    "print(\"After Spearman\",len(columns_to_remove_S))\n",
    "print()\n",
    "\n",
    "print(\"Pearson correlation\")\n",
    "check_wo_col(dt,dv,columns_to_remove_P)\n",
    "\n",
    "print(\"Spearman correlation\")\n",
    "check_wo_col(dt,dv,columns_to_remove_S)"
   ]
  },
  {
   "cell_type": "markdown",
   "metadata": {},
   "source": [
    "I decided to delete columns which correlation with SalePrice is less than 0.01."
   ]
  },
  {
   "cell_type": "markdown",
   "metadata": {},
   "source": [
    "### Check with p-values\n",
    "\n",
    "We can delete columns using p-values, when we are not sure what correlation treshold use in calculations of Spearman and Pearson algorithms."
   ]
  },
  {
   "cell_type": "code",
   "execution_count": 18,
   "metadata": {},
   "outputs": [
    {
     "name": "stdout",
     "output_type": "stream",
     "text": [
      "['BsmtFinSF2', 'BsmtHalfBath', 'LandContour_Lvl', 'LotConfig_FR2', 'Condition1_RRAn', 'Condition1_RRNe', 'RoofMatl_Tar&Grv', 'Foundation_Wood', 'Fence_GdPrv', 'MiscFeature_Gar2', 'SaleType_CWD', 'SaleCondition_Alloca']\n"
     ]
    }
   ],
   "source": [
    "# prepare data\n",
    "X = dt.drop(columns_to_remove, axis = 1, errors = 'ignore').drop(['SalePrice'], axis = 1, errors = 'ignore')\n",
    "y = dt.SalePrice\n",
    "\n",
    "# calculate F values for correlation coefficient (calculated from rho using an increasing function)\n",
    "# calculate p-values of the correspondong F-test (inversely proportional to rho)\n",
    "Fscores, pvals = feature_selection.f_regression(X,y)\n",
    "pvals_result = pd.Series(pvals, index = X.columns)\n",
    "\n",
    "# I will remove colums with too big probability that there was some coincidence in results\n",
    "additional_columns = list(pvals_result[pvals_result > 0.8].index)\n",
    "print(additional_columns)\n",
    "# extend columns_to_remove\n",
    "columns_to_remove_pp = list(set(columns_to_remove + additional_columns))"
   ]
  },
  {
   "cell_type": "markdown",
   "metadata": {},
   "source": [
    "I decided that probability of 80% is acceptable. We will delete columns, which values depend too much on coincidence."
   ]
  },
  {
   "cell_type": "markdown",
   "metadata": {},
   "source": [
    "## T-test for indicator variables\n",
    "\n",
    "To compare indicator varaibles and detect which of those columns to delete to improve performance of predictions."
   ]
  },
  {
   "cell_type": "code",
   "execution_count": 19,
   "metadata": {},
   "outputs": [
    {
     "data": {
      "text/plain": [
       "BsmtFinType2_GLQ     0.997228\n",
       "RoofStyle_Mansard    0.987682\n",
       "GarageCond_Gd        0.964432\n",
       "Foundation_Wood      0.897923\n",
       "LotConfig_Corner     0.880203\n",
       "BldgType_TwnhsE      0.853574\n",
       "RoofMatl_Tar&Grv     0.824290\n",
       "Condition1_RRAn      0.789933\n",
       "Fence_GdPrv          0.787946\n",
       "SaleType_ConLI       0.778721\n",
       "ExterCond_Ex         0.776527\n",
       "LotConfig_FR2        0.744095\n",
       "MiscFeature_Gar2     0.690090\n",
       "Functional_Mod       0.687068\n",
       "Foundation_Stone     0.659672\n",
       "dtype: float64"
      ]
     },
     "metadata": {},
     "output_type": "display_data"
    },
    {
     "data": {
      "text/plain": [
       "KitchenQual_TA       8.315298e-95\n",
       "ExterQual_TA         5.601284e-93\n",
       "BsmtQual_TA          4.684438e-82\n",
       "Foundation_PConc     2.762385e-79\n",
       "GarageType_Detchd    1.417977e-73\n",
       "GarageFinish_Unf     5.613053e-71\n",
       "ExterQual_Gd         1.134962e-70\n",
       "HeatingQC_Ex         9.844340e-68\n",
       "HasOpenPorchSF       6.314105e-66\n",
       "HeatingQC_TA         6.479553e-51\n",
       "dtype: float64"
      ]
     },
     "metadata": {},
     "output_type": "display_data"
    },
    {
     "data": {
      "text/plain": [
       "<matplotlib.axes._subplots.AxesSubplot at 0xb8c3080>"
      ]
     },
     "execution_count": 19,
     "metadata": {},
     "output_type": "execute_result"
    },
    {
     "data": {
      "image/png": "[encoded data removed]",
      "text/plain": [
       "<Figure size 1080x504 with 6 Axes>"
      ]
     },
     "metadata": {
      "needs_background": "light"
     },
     "output_type": "display_data"
    }
   ],
   "source": [
    "ttest_pvals = df\\\n",
    "    .drop(columns_to_remove, axis = 1, errors = 'ignore')\\\n",
    "    .select_dtypes(include = ['uint8']).columns\\\n",
    "    .to_series()\\\n",
    "    .apply(lambda x: stats.ttest_ind(df.SalePrice[df[x] == 0], df.SalePrice[df[x] == 1], equal_var = False).pvalue)\n",
    "\n",
    "# show largest and smallest p-values\n",
    "display(ttest_pvals.nlargest(15))\n",
    "display(ttest_pvals.nsmallest(10))\n",
    "\n",
    "fig, axs = plt.subplots(ncols=6, figsize=(15,7))\n",
    "sns.boxplot(x='KitchenQual_TA', y='SalePrice', data=dt,ax=axs[0])\n",
    "sns.boxplot(x='LandContour_Low', y='SalePrice', data=dt,ax=axs[1])\n",
    "sns.boxplot(x='LandSlope_Mod', y='SalePrice', data=dt,ax=axs[2])\n",
    "sns.boxplot(x='Exterior1st_Plywood', y='SalePrice', data=dt,ax=axs[3])\n",
    "sns.boxplot(x='Neighborhood_SawyerW', y='SalePrice', data=dt,ax=axs[4])\n",
    "sns.boxplot(x='LotConfig_Corner', y='SalePrice', data=dt,ax=axs[5])"
   ]
  },
  {
   "cell_type": "markdown",
   "metadata": {},
   "source": [
    "I can notice that when t-test value is big then target variable is not very diversified.\n",
    "I see that when the p-value is under 0.5 then we can start to see more diversity, so I will delete all columns with p-value above 0.5"
   ]
  },
  {
   "cell_type": "code",
   "execution_count": 20,
   "metadata": {},
   "outputs": [
    {
     "name": "stdout",
     "output_type": "stream",
     "text": [
      "With 'normal'\n",
      "Linear regression root mean squared validation error: 0.16728110323253317\n",
      "Linear regression root mean squared train error: 0.10828154381510559\n",
      "Ridge regression root mean squared validation error: 0.14168364021490187\n",
      "Rigde regression root mean squared train error: 0.1238755119759083\n",
      "\n",
      "With p-values\n",
      "Linear regression root mean squared validation error: 0.1695045612702426\n",
      "Linear regression root mean squared train error: 0.10685605788638346\n",
      "Ridge regression root mean squared validation error: 0.14164206298781865\n",
      "Rigde regression root mean squared train error: 0.12282834592519166\n",
      "\n",
      "Linear regression root mean squared validation error: 0.1664123333042949\n",
      "Linear regression root mean squared train error: 0.10829003045040447\n",
      "Ridge regression root mean squared validation error: 0.14175178456528267\n",
      "Rigde regression root mean squared train error: 0.12379189024301428\n",
      "\n",
      "With Spearman correlation\n",
      "Linear regression root mean squared validation error: 0.17260585420573896\n",
      "Linear regression root mean squared train error: 0.10647253356305136\n",
      "Ridge regression root mean squared validation error: 0.14238348215670554\n",
      "Rigde regression root mean squared train error: 0.12317093321047443\n",
      "\n",
      "Linear regression root mean squared validation error: 0.16710246873745022\n",
      "Linear regression root mean squared train error: 0.10828758767896457\n",
      "Ridge regression root mean squared validation error: 0.14167770213229355\n",
      "Rigde regression root mean squared train error: 0.12383596162579326\n",
      "\n",
      "With Pearson correlation\n",
      "Linear regression root mean squared validation error: 0.1725161536296006\n",
      "Linear regression root mean squared train error: 0.10682037520696315\n",
      "Ridge regression root mean squared validation error: 0.14208764651474504\n",
      "Rigde regression root mean squared train error: 0.12296495239283217\n",
      "\n",
      "Linear regression root mean squared validation error: 0.1671024687374705\n",
      "Linear regression root mean squared train error: 0.10828758767897116\n",
      "Ridge regression root mean squared validation error: 0.1416777123023697\n",
      "Rigde regression root mean squared train error: 0.12383595692850148\n",
      "\n"
     ]
    }
   ],
   "source": [
    "val = 0.5\n",
    "columns_to_remove_tt1 = list(set(columns_to_remove + list(ttest_pvals[ttest_pvals > val].index)))\n",
    "columns_to_remove_tt2 = list(set(columns_to_remove_pp + list(ttest_pvals[ttest_pvals > val].index)))\n",
    "columns_to_remove_tt3 = list(set(columns_to_remove_S + list(ttest_pvals[ttest_pvals > val].index)))\n",
    "columns_to_remove_tt4 = list(set(columns_to_remove_P + list(ttest_pvals[ttest_pvals > val].index)))\n",
    "\n",
    "print(\"With 'normal'\")\n",
    "check_wo_col(dt,dv,columns_to_remove_tt1)\n",
    "print(\"With p-values\")\n",
    "check_wo_col(dt,dv,columns_to_remove_pp)\n",
    "check_wo_col(dt,dv,columns_to_remove_tt2)\n",
    "print(\"With Spearman correlation\")\n",
    "check_wo_col(dt,dv,columns_to_remove_S)\n",
    "check_wo_col(dt,dv,columns_to_remove_tt3)\n",
    "print(\"With Pearson correlation\")\n",
    "check_wo_col(dt,dv,columns_to_remove_P)\n",
    "check_wo_col(dt,dv,columns_to_remove_tt4)"
   ]
  },
  {
   "cell_type": "markdown",
   "metadata": {},
   "source": [
    "I will use those results with wrapper methods and I will compare how those method will change them."
   ]
  },
  {
   "cell_type": "markdown",
   "metadata": {},
   "source": [
    "## Wrapper methods\n",
    "\n",
    "Wrapper methods can help with better selection of features, because it choose the best features compare them as a whole set.\n",
    "I checked two wrapper methods - RFECV and Lasso."
   ]
  },
  {
   "cell_type": "markdown",
   "metadata": {},
   "source": [
    "Function to run RFECV algorithm and show results."
   ]
  },
  {
   "cell_type": "code",
   "execution_count": 21,
   "metadata": {},
   "outputs": [],
   "source": [
    "# Prepare the data\n",
    "def wrapper_rfecv(filtered_dt,filtered_dv):\n",
    "    X = filtered_dt.drop(['SalePrice'], axis = 1, errors = 'ignore')\n",
    "    y = filtered_dt.SalePrice\n",
    "\n",
    "    used_columns = X.columns\n",
    "\n",
    "    # define the scorer which will be the RMSE\n",
    "    def scorer(Y, yp):\n",
    "        return np.sqrt(metrics.mean_squared_error(Y, yp))\n",
    "\n",
    "    # prepare the model\n",
    "    clfM = linear_model.LinearRegression()\n",
    "\n",
    "    # prepare the backward selection algorithm (recursive feature elimination with cross validation)\n",
    "    selector = feature_selection.RFECV(clfM, step=1, cv=3, scoring=metrics.make_scorer(scorer))\n",
    "    # run it\n",
    "    selector = selector.fit(X, y)\n",
    "\n",
    "    # transform result to dataframe\n",
    "    result = pd.DataFrame({'Chosen': selector.support_, 'Ranking': selector.ranking_}, index=list(used_columns))\n",
    "    # columns to leave\n",
    "    columns_to_leave = result[result.Chosen == True].index\n",
    "    # show results\n",
    "    #display(result[result.Chosen == False].head(5))\n",
    "    print('Chosen', len(columns_to_leave),'from ', result.Chosen.shape[0], 'features.')\n",
    "    \n",
    "    #print results\n",
    "    linreg(filtered_dt[list(columns_to_leave) + ['SalePrice']], filtered_dv[list(columns_to_leave) + ['SalePrice']])\n",
    "    ridgereg(filtered_dt[list(columns_to_leave) + ['SalePrice']], filtered_dv[list(columns_to_leave) + ['SalePrice']])"
   ]
  },
  {
   "cell_type": "markdown",
   "metadata": {},
   "source": [
    "Function to run Lasso algorithm and show results. I have chosen max_iter as 50000, becuase with the lower value there was some warning about not enough precision."
   ]
  },
  {
   "cell_type": "code",
   "execution_count": 22,
   "metadata": {},
   "outputs": [],
   "source": [
    "def wrapper_lasso(filtered_dt,filtered_dv):\n",
    "    # Prepare the data\n",
    "    X = filtered_dt.drop(['SalePrice'], axis = 1, errors = 'ignore')\n",
    "    y = filtered_dt.SalePrice\n",
    "\n",
    "    used_columns = X.columns\n",
    "\n",
    "    # We use the base estimator Lasso since the L1 norm promotes sparsity of features.\n",
    "    clf = linear_model.Lasso(alpha = 6, max_iter = 50000)\n",
    "\n",
    "    sfm = feature_selection.SelectFromModel(clf)\n",
    "    sfm.fit(X, y)\n",
    "\n",
    "    # transform result to dataframe\n",
    "    result = pd.DataFrame({'Chosen': sfm.get_support()}, index=list(used_columns))\n",
    "    # columns to leave\n",
    "    columns_to_leave = result[result.Chosen == True].index\n",
    "    # show results\n",
    "    #display(result[result.Chosen == False].head(5))\n",
    "    print('Chosen', result.Chosen.sum(),'from ', result.Chosen.shape[0], 'features.')\n",
    "    \n",
    "    #print results\n",
    "    linreg(filtered_dt[list(columns_to_leave) + ['SalePrice']], filtered_dv[list(columns_to_leave) + ['SalePrice']])\n",
    "    ridgereg(filtered_dt[list(columns_to_leave) + ['SalePrice']], filtered_dv[list(columns_to_leave) + ['SalePrice']])"
   ]
  },
  {
   "cell_type": "markdown",
   "metadata": {},
   "source": [
    "## Final results\n",
    "\n",
    "I compare results which I get after using wrapper methods for the following set of columns to remove:\n",
    "- after T-test values\n",
    "- after p-values and T-test values\n",
    "- after Spearman correlation and T-test values\n",
    "- after Pearson correlation and T-test values\n",
    "\n",
    "For every set I check ringe regression and linear regression."
   ]
  },
  {
   "cell_type": "code",
   "execution_count": 23,
   "metadata": {},
   "outputs": [
    {
     "name": "stdout",
     "output_type": "stream",
     "text": [
      "JUST T-TEST\n",
      "RFECV\n",
      "Chosen 264 from  273 features.\n",
      "Linear regression root mean squared validation error: 0.11044622174826468\n",
      "Linear regression root mean squared train error: 0.11044622174826468\n",
      "Ridge regression root mean squared validation error: 0.12469625585989726\n",
      "Rigde regression root mean squared train error: 0.12469625585989726\n",
      "\n",
      "Lasso\n",
      "Chosen 234 from  273 features.\n",
      "Linear regression root mean squared validation error: 0.11598218079218062\n",
      "Linear regression root mean squared train error: 0.11598218079218062\n",
      "Ridge regression root mean squared validation error: 0.12392151935818642\n",
      "Rigde regression root mean squared train error: 0.12392151935818642\n",
      "\n",
      "\n",
      "P-VALUES AND T-TEST\n",
      "RFECV\n",
      "Chosen 209 from  269 features.\n",
      "Linear regression root mean squared validation error: 0.12182333904708871\n",
      "Linear regression root mean squared train error: 0.12182333904708871\n",
      "Ridge regression root mean squared validation error: 0.13199142278854653\n",
      "Rigde regression root mean squared train error: 0.13199142278854653\n",
      "\n",
      "Lasso\n",
      "Chosen 228 from  269 features.\n",
      "Linear regression root mean squared validation error: 0.11599098570289448\n",
      "Linear regression root mean squared train error: 0.11599098570289448\n",
      "Ridge regression root mean squared validation error: 0.12370518391128076\n",
      "Rigde regression root mean squared train error: 0.12370518391128076\n",
      "\n",
      "\n",
      "SPEARMAN AND T-TEST\n",
      "RFECV\n",
      "Chosen 261 from  272 features.\n",
      "Linear regression root mean squared validation error: 0.10966167224671411\n",
      "Linear regression root mean squared train error: 0.10966167224671411\n",
      "Ridge regression root mean squared validation error: 0.12577527391943658\n",
      "Rigde regression root mean squared train error: 0.12577527391943658\n",
      "\n",
      "Lasso\n",
      "Chosen 233 from  272 features.\n",
      "Linear regression root mean squared validation error: 0.11596931892031981\n",
      "Linear regression root mean squared train error: 0.11596931892031981\n",
      "Ridge regression root mean squared validation error: 0.12391236251310994\n",
      "Rigde regression root mean squared train error: 0.12391236251310994\n",
      "\n",
      "\n",
      "PEARSON AND T-TEST\n",
      "RFECV\n",
      "Chosen 86 from  271 features.\n",
      "Linear regression root mean squared validation error: 0.16022529964425514\n",
      "Linear regression root mean squared train error: 0.16022529964425514\n",
      "Ridge regression root mean squared validation error: 0.15840273955216203\n",
      "Rigde regression root mean squared train error: 0.15840273955216203\n",
      "\n",
      "Lasso\n",
      "Chosen 231 from  271 features.\n",
      "Linear regression root mean squared validation error: 0.11596931892020852\n",
      "Linear regression root mean squared train error: 0.11596931892020852\n",
      "Ridge regression root mean squared validation error: 0.12377290588922092\n",
      "Rigde regression root mean squared train error: 0.12377290588922092\n",
      "\n",
      "\n"
     ]
    }
   ],
   "source": [
    "columns_to_remove_arr = [columns_to_remove_tt1,columns_to_remove_tt2,columns_to_remove_tt3,columns_to_remove_tt4]\n",
    "columns_to_remove_names = [\"JUST T-TEST\",\"P-VALUES AND T-TEST\",\"SPEARMAN AND T-TEST\",\"PEARSON AND T-TEST\"]\n",
    "\n",
    "for col,name in zip(columns_to_remove_arr,columns_to_remove_names):\n",
    "    print(name)\n",
    "    final_columns_to_remove = col\n",
    "    filtered_dt = dt.drop(final_columns_to_remove, axis = 1, errors = 'ignore')\n",
    "    filtered_dv = dt.drop(final_columns_to_remove, axis = 1, errors = 'ignore')\n",
    "    \n",
    "    print(\"RFECV\")\n",
    "    wrapper_rfecv(filtered_dt,filtered_dv)\n",
    "    print(\"\\nLasso\")\n",
    "    wrapper_lasso(filtered_dt,filtered_dv)\n",
    "    print(\"\\n\")"
   ]
  },
  {
   "cell_type": "markdown",
   "metadata": {},
   "source": [
    "### Summary and comparison with results from Keggle\n",
    "\n",
    "We can see that the best result (the lowest validation error) I get when I delete columns using Spearman correlation and T-test and finally running RFECV wrapper algortihm for data without those columns. Also good result I get when I delete columns using only T-test and finally running Lasso wrapper algorithm for data without those columns.\n",
    "\n",
    "The results around 20% of Kaggle leaderboard is approximately 0.12. The best result which I reach is approximately 0.1096, so I think it is quite fine. I noticed that wrapped methods affect results more than filter methods.\n",
    "\n",
    "###### I also want to add a coment about why didn't I choose to transform target value. Just because my results are fine without it.\n",
    "\n",
    "**And a little more comment about it.**\n",
    "On the tutorial classes it was said that it is good to normalize target value, because it is known that the least squares method\n",
    "which is behind the linear regression, which is used to predict sale prices, is equivalent to the maximum likelihood method when the target variable has a normal distribution. There was also proposed that we can get target variable normalized by counting logarithm of it. But since I use log in my RMSLE algorithm, then if I will also count logarithm of target variable, I will not get correct results. I tried to count logarithm of target variable and then to count expotential of target variable, but I still got some strange results, so I just leave it without normalization of target variable.\n"
   ]
  },
  {
   "cell_type": "code",
   "execution_count": null,
   "metadata": {},
   "outputs": [],
   "source": []
  }
 ],
 "metadata": {
  "kernelspec": {
   "display_name": "Python 3",
   "language": "python",
   "name": "python3"
  },
  "language_info": {
   "codemirror_mode": {
    "name": "ipython",
    "version": 3
   },
   "file_extension": ".py",
   "mimetype": "text/x-python",
   "name": "python",
   "nbconvert_exporter": "python",
   "pygments_lexer": "ipython3",
   "version": "3.7.0"
  }
 },
 "nbformat": 4,
 "nbformat_minor": 2
}
